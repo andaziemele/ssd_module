{
 "cells": [
  {
   "cell_type": "markdown",
   "metadata": {},
   "source": [
    "The UK postcode system consists of a string that contains a number of characters and numbers – a typical example is ST7 9HV (this is not valid – see below for why). The rules for the pattern are available from idealpostcodes (2020).\n",
    "\n",
    "Create a python program that implements a regex that complies with the rules provided above – test it against the examples provided.\n",
    "\n",
    "Examples:\n",
    "* M1 1AA\n",
    "* M60 1NW\n",
    "* CR2 6XH\n",
    "* DN55 1PT\n",
    "* W1A 1HQ\n",
    "* EC1A 1BB\n",
    "\n",
    "How do you ensure your solution is not subject to an evil regex attack?\n",
    "> Validate, where possible, the length of the input string. In this case, check if it is between 6 and 8 characters."
   ]
  },
  {
   "cell_type": "code",
   "execution_count": 5,
   "metadata": {},
   "outputs": [],
   "source": [
    "import re"
   ]
  },
  {
   "cell_type": "code",
   "execution_count": 22,
   "metadata": {},
   "outputs": [],
   "source": [
    "test_postcodes = [\"M1 1AA\", \"M60 1NW\", \"CR2 6XH\", \"DN55 1PT\", \"W1A 1HQ\", \"EC1A 1BB\", \"M44T 3GH\"]"
   ]
  },
  {
   "cell_type": "code",
   "execution_count": 25,
   "metadata": {},
   "outputs": [],
   "source": [
    "def check_postcode_validity(postcode):\n",
    "    if len(postcode) in list(range(6, 9)):\n",
    "        postcode_pattern = re.compile('([A-aZ-z]{1,2}\\d{1}[A-aZ-z]{0,1}|[A-aZ-z]{1,2}\\d{1,2})\\s\\d{1}[A-aZ-z]{2}')\n",
    "        postcode_match = re.match(postcode_pattern, postcode)\n",
    "    else:\n",
    "        print(postcode, \"invalid!\")\n",
    "        return None\n",
    "    \n",
    "    if postcode_match:\n",
    "        print(postcode, \"matched successfully!\")\n",
    "        return postcode\n",
    "    else:\n",
    "        print(postcode, \"invalid!\")\n",
    "        return None"
   ]
  },
  {
   "cell_type": "code",
   "execution_count": 26,
   "metadata": {},
   "outputs": [
    {
     "name": "stdout",
     "output_type": "stream",
     "text": [
      "M1 1AA matched successfully!\n",
      "M60 1NW matched successfully!\n",
      "CR2 6XH matched successfully!\n",
      "DN55 1PT matched successfully!\n",
      "W1A 1HQ matched successfully!\n",
      "EC1A 1BB matched successfully!\n",
      "M44T 3GH invalid!\n"
     ]
    }
   ],
   "source": [
    "for t_p in test_postcodes:\n",
    "    check_postcode_validity(t_p)"
   ]
  },
  {
   "cell_type": "code",
   "execution_count": null,
   "metadata": {},
   "outputs": [],
   "source": []
  }
 ],
 "metadata": {
  "kernelspec": {
   "display_name": "Python 3",
   "language": "python",
   "name": "python3"
  },
  "language_info": {
   "codemirror_mode": {
    "name": "ipython",
    "version": 3
   },
   "file_extension": ".py",
   "mimetype": "text/x-python",
   "name": "python",
   "nbconvert_exporter": "python",
   "pygments_lexer": "ipython3",
   "version": "3.8.5"
  }
 },
 "nbformat": 4,
 "nbformat_minor": 4
}
