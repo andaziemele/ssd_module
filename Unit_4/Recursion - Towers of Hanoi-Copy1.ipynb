{
 "cells": [
  {
   "cell_type": "markdown",
   "metadata": {},
   "source": [
    "Read the explanation, study the code and then create your own version using Python (if you want to make it more interesting you can use asterisks to represent the disks). Create a version that asks for the number of disks and then executes the moves, and then finally displays the number of moves executed.\n",
    "> Done\n",
    "\n",
    "What is the (theoretical) maximum number of disks that your program can move without generating an error?\n",
    "> Whatever number fits into memory.\n",
    "\n",
    "What limits the number of iterations? What is the implication for application and system security?\n",
    "> The input of the numer of disks. It's critical to have an end-point."
   ]
  },
  {
   "cell_type": "code",
   "execution_count": 1,
   "metadata": {},
   "outputs": [],
   "source": [
    "def towers_of_hanoi(num, p_from, p_to, spare, f):\n",
    "    if num == 0:\n",
    "        return p_to\n",
    "    else:\n",
    "        towers_of_hanoi(num-1, p_from, spare, p_to, f)\n",
    "        i = p_from.pop(0)\n",
    "        p_to.insert(0, i)\n",
    "        print(\"Move\", i, \"from\", p_from, \"to\", p_to)\n",
    "        f.append(\"move\")\n",
    "        towers_of_hanoi(num-1, spare, p_to, p_from, f)\n",
    "    return len(f)"
   ]
  },
  {
   "cell_type": "code",
   "execution_count": 2,
   "metadata": {},
   "outputs": [
    {
     "name": "stdout",
     "output_type": "stream",
     "text": [
      "Move * from ['**', '***', '****', '*****'] to ['*']\n",
      "Move ** from ['***', '****', '*****'] to ['**']\n",
      "Move * from [] to ['*', '**']\n",
      "Move *** from ['****', '*****'] to ['***']\n",
      "Move * from ['**'] to ['*', '****', '*****']\n",
      "Move ** from [] to ['**', '***']\n",
      "Move * from ['****', '*****'] to ['*', '**', '***']\n"
     ]
    },
    {
     "data": {
      "text/plain": [
       "7"
      ]
     },
     "execution_count": 2,
     "metadata": {},
     "output_type": "execute_result"
    }
   ],
   "source": [
    "f = []\n",
    "towers_of_hanoi(3, [\"*\", \"**\", \"***\", \"****\", \"*****\"], [], [], f)"
   ]
  },
  {
   "cell_type": "code",
   "execution_count": null,
   "metadata": {},
   "outputs": [],
   "source": []
  }
 ],
 "metadata": {
  "kernelspec": {
   "display_name": "Python 3",
   "language": "python",
   "name": "python3"
  },
  "language_info": {
   "codemirror_mode": {
    "name": "ipython",
    "version": 3
   },
   "file_extension": ".py",
   "mimetype": "text/x-python",
   "name": "python",
   "nbconvert_exporter": "python",
   "pygments_lexer": "ipython3",
   "version": "3.8.5"
  }
 },
 "nbformat": 4,
 "nbformat_minor": 4
}
